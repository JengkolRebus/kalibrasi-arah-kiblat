{
  "nbformat": 4,
  "nbformat_minor": 0,
  "metadata": {
    "colab": {
      "name": "arahkiblat.ipynb",
      "provenance": [],
      "collapsed_sections": [],
      "authorship_tag": "ABX9TyOJ94ETCt7sbPl9/+jm2xvd",
      "include_colab_link": true
    },
    "kernelspec": {
      "display_name": "Python 3",
      "name": "python3"
    }
  },
  "cells": [
    {
      "cell_type": "markdown",
      "metadata": {
        "id": "view-in-github",
        "colab_type": "text"
      },
      "source": [
        "<a href=\"https://colab.research.google.com/github/JengkolRebus/kalibrasi-arah-kiblat/blob/main/arahkiblat.ipynb\" target=\"_parent\"><img src=\"https://colab.research.google.com/assets/colab-badge.svg\" alt=\"Open In Colab\"/></a>"
      ]
    },
    {
      "cell_type": "code",
      "metadata": {
        "id": "6PZnfXBFYOWW"
      },
      "source": [
        "# jengkolrebus\r\n",
        "# 30 January 2021\r\n",
        "# Yogyakarta\r\n",
        "\r\n",
        "import numpy as np\r\n",
        "import math\r\n",
        "\r\n",
        "\r\n",
        "def toDMS(degree):\r\n",
        "    d = int(degree)\r\n",
        "    m = int((degree-d)*60)\r\n",
        "    s = (degree - d - m / 60) * 3600\r\n",
        "    degree_sign = u'\\N{DEGREE SIGN}'\r\n",
        "    return '{}{} {}\\' {}\\\"'.format(d, degree_sign, m, round(s, 2))\r\n"
      ],
      "execution_count": null,
      "outputs": []
    },
    {
      "cell_type": "code",
      "metadata": {
        "colab": {
          "base_uri": "https://localhost:8080/"
        },
        "id": "jbiIXIW8YXg7",
        "outputId": "18f03a7a-2ace-49c3-ee8e-da66ff2b062b"
      },
      "source": [
        "lintangKabah = np.radians(21+(25/60)+(21.07/3600))\r\n",
        "bujurKabah = np.radians(39+(49/60)+(34.37/3600))\r\n",
        "lintangTempat = np.radians(5+(7/60)+(39/3600))\r\n",
        "bujurTempat = np.radians(97+(9/60)+(11/3600))\r\n",
        "\r\n",
        "a = np.sin(bujurTempat-bujurKabah)\r\n",
        "b = np.cos(lintangTempat)*np.tan(lintangKabah)\r\n",
        "c = np.sin(lintangTempat)*np.cos(bujurTempat - bujurKabah)\r\n",
        "K = np.degrees(np.arctan(a/(b-c)))\r\n",
        "az = 270+(90-K)\r\n",
        "\r\n",
        "K = toDMS(K)\r\n",
        "print(K)\r\n",
        "az = toDMS(az)\r\n",
        "print(az)"
      ],
      "execution_count": null,
      "outputs": [
        {
          "output_type": "stream",
          "text": [
            "67° 51' 27.12\"\n",
            "292° 8' 32.88\"\n"
          ],
          "name": "stdout"
        }
      ]
    },
    {
      "cell_type": "code",
      "metadata": {
        "colab": {
          "base_uri": "https://localhost:8080/"
        },
        "id": "PDJkW7vqvXkD",
        "outputId": "832534fb-6d4e-4ce1-e3b2-87afceb27114"
      },
      "source": [
        "lintangKabah = 21+(25/60)+(21/3600)\n",
        "bujurKabah = 39+(49/60)+(34/3600)\n",
        "lintangTempat = 5+(7/60)+(39/3600)\n",
        "bujurTempat = 97+(9/60)+(11/3600)\n",
        "\n",
        "# lintangKabah = 21+(25/60)+(21/3600)\n",
        "# bujurKabah = 39+(50/60)+(34/3600)\n",
        "print('Ka\\'bah:', lintangKabah, 'LU', bujurKabah, 'BT')\n",
        "\n",
        "# lintangTempat = -(6+(29/60)+(16/3600))\n",
        "# bujurTempat = 107+(20/60)+(16/3600)\n",
        "print('Tempat:', lintangTempat, 'LU,', bujurTempat, 'BT')\n",
        "\n",
        "a = 90-lintangTempat\n",
        "print('a:', a)\n",
        "b = 90-lintangKabah\n",
        "print('b:', b)\n",
        "C = bujurTempat-bujurKabah\n",
        "print('C:', C)\n",
        "\n",
        "i = (a-b)/2\n",
        "print('i:', i)\n",
        "j = (a+b)/2\n",
        "print('j:', j)\n",
        "k = C/2\n",
        "print('k:', k)\n",
        "\n",
        "sinI = np.sin(np.deg2rad(i))\n",
        "print('sinI:', sinI)\n",
        "sinJ = np.sin(np.deg2rad(j))\n",
        "print('sinJ:', sinJ)\n",
        "cosI = np.cos(np.deg2rad(i))\n",
        "print('cosI:', cosI)\n",
        "cosJ = np.cos(np.deg2rad(j))\n",
        "print('cosJ:', cosJ)\n",
        "tanK = np.tan(np.deg2rad(k))\n",
        "print('tanK:', tanK)\n",
        "cotK = 1/tanK\n",
        "print('cotK:', cotK)\n",
        "\n",
        "tanX = (sinI * cotK) / sinJ\n",
        "print('tanX:', tanX)\n",
        "X = np.degrees(np.arctan(tanX))\n",
        "print('X:', X)\n",
        "\n",
        "tanY = (cosI * cotK) / cosJ\n",
        "print('tanY:', tanY)\n",
        "Y = np.degrees(np.arctan(tanY))\n",
        "print('Y:', Y)\n",
        "\n",
        "B = Y - X\n",
        "print('B:', B)\n",
        "B = toDMS(B)\n",
        "print('B:', B)"
      ],
      "execution_count": null,
      "outputs": [
        {
          "output_type": "stream",
          "text": [
            "Ka'bah: 21.4225 LU 39.82611111111112 BT\n",
            "Tempat: 5.1274999999999995 LU, 97.15305555555557 BT\n",
            "a: 84.8725\n",
            "b: 68.5775\n",
            "C: 57.32694444444445\n",
            "i: 8.1475\n",
            "j: 76.725\n",
            "k: 28.663472222222225\n",
            "sinI: 0.14172194411708938\n",
            "sinJ: 0.973279158268075\n",
            "cosI: 0.9899065059669385\n",
            "cosJ: 0.2296250859139469\n",
            "tanK: 0.5466556747357822\n",
            "cotK: 1.82930507486881\n",
            "tanX: 0.26637031050269167\n",
            "X: 14.91556335147094\n",
            "tanY: 7.886076505114924\n",
            "Y: 82.77313515787398\n",
            "B: 67.85757180640304\n",
            "B: 67° 51' 27.26\"\n"
          ],
          "name": "stdout"
        }
      ]
    },
    {
      "cell_type": "code",
      "metadata": {
        "id": "dFCYYHfg0W72"
      },
      "source": [
        ""
      ],
      "execution_count": null,
      "outputs": []
    }
  ]
}