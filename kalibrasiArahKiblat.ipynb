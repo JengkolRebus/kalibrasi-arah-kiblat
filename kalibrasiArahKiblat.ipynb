{
  "nbformat": 4,
  "nbformat_minor": 0,
  "metadata": {
    "colab": {
      "name": "kalibrasiArahKiblat.ipynb",
      "provenance": [],
      "collapsed_sections": [],
      "authorship_tag": "ABX9TyOekDeuvyIlchku8BQeGKu0",
      "include_colab_link": true
    },
    "kernelspec": {
      "name": "python3",
      "display_name": "Python 3"
    },
    "widgets": {
      "application/vnd.jupyter.widget-state+json": {
        "00cdb6a91f674256bfc04843f49a116b": {
          "model_module": "@jupyter-widgets/controls",
          "model_name": "TextModel",
          "state": {
            "_view_name": "TextView",
            "style": "IPY_MODEL_fb961e7bee5b4dffaf07b63b1255a900",
            "_dom_classes": [],
            "description": "Latitude:",
            "_model_name": "TextModel",
            "placeholder": "​",
            "_view_module": "@jupyter-widgets/controls",
            "_model_module_version": "1.5.0",
            "value": "7.83305556 S",
            "_view_count": null,
            "disabled": false,
            "_view_module_version": "1.5.0",
            "continuous_update": true,
            "description_tooltip": null,
            "_model_module": "@jupyter-widgets/controls",
            "layout": "IPY_MODEL_2f52c7a019c44a888e2707432dcda0f6"
          }
        },
        "fb961e7bee5b4dffaf07b63b1255a900": {
          "model_module": "@jupyter-widgets/controls",
          "model_name": "DescriptionStyleModel",
          "state": {
            "_view_name": "StyleView",
            "_model_name": "DescriptionStyleModel",
            "description_width": "",
            "_view_module": "@jupyter-widgets/base",
            "_model_module_version": "1.5.0",
            "_view_count": null,
            "_view_module_version": "1.2.0",
            "_model_module": "@jupyter-widgets/controls"
          }
        },
        "2f52c7a019c44a888e2707432dcda0f6": {
          "model_module": "@jupyter-widgets/base",
          "model_name": "LayoutModel",
          "state": {
            "_view_name": "LayoutView",
            "grid_template_rows": null,
            "right": null,
            "justify_content": null,
            "_view_module": "@jupyter-widgets/base",
            "overflow": null,
            "_model_module_version": "1.2.0",
            "_view_count": null,
            "flex_flow": null,
            "width": null,
            "min_width": null,
            "border": null,
            "align_items": null,
            "bottom": null,
            "_model_module": "@jupyter-widgets/base",
            "top": null,
            "grid_column": null,
            "overflow_y": null,
            "overflow_x": null,
            "grid_auto_flow": null,
            "grid_area": null,
            "grid_template_columns": null,
            "flex": null,
            "_model_name": "LayoutModel",
            "justify_items": null,
            "grid_row": null,
            "max_height": null,
            "align_content": null,
            "visibility": null,
            "align_self": null,
            "height": null,
            "min_height": null,
            "padding": null,
            "grid_auto_rows": null,
            "grid_gap": null,
            "max_width": null,
            "order": null,
            "_view_module_version": "1.2.0",
            "grid_template_areas": null,
            "object_position": null,
            "object_fit": null,
            "grid_auto_columns": null,
            "margin": null,
            "display": null,
            "left": null
          }
        },
        "49194d0a4f9d4075b7f3f876bf73ff43": {
          "model_module": "@jupyter-widgets/controls",
          "model_name": "TextModel",
          "state": {
            "_view_name": "TextView",
            "style": "IPY_MODEL_2abcfaff07084b068feee248a4d2545e",
            "_dom_classes": [],
            "description": "Longitude:",
            "_model_name": "TextModel",
            "placeholder": "​",
            "_view_module": "@jupyter-widgets/controls",
            "_model_module_version": "1.5.0",
            "value": "110.38305556 E",
            "_view_count": null,
            "disabled": false,
            "_view_module_version": "1.5.0",
            "continuous_update": true,
            "description_tooltip": null,
            "_model_module": "@jupyter-widgets/controls",
            "layout": "IPY_MODEL_b5db8487e2be4f268b601a6f7eb216fd"
          }
        },
        "2abcfaff07084b068feee248a4d2545e": {
          "model_module": "@jupyter-widgets/controls",
          "model_name": "DescriptionStyleModel",
          "state": {
            "_view_name": "StyleView",
            "_model_name": "DescriptionStyleModel",
            "description_width": "",
            "_view_module": "@jupyter-widgets/base",
            "_model_module_version": "1.5.0",
            "_view_count": null,
            "_view_module_version": "1.2.0",
            "_model_module": "@jupyter-widgets/controls"
          }
        },
        "b5db8487e2be4f268b601a6f7eb216fd": {
          "model_module": "@jupyter-widgets/base",
          "model_name": "LayoutModel",
          "state": {
            "_view_name": "LayoutView",
            "grid_template_rows": null,
            "right": null,
            "justify_content": null,
            "_view_module": "@jupyter-widgets/base",
            "overflow": null,
            "_model_module_version": "1.2.0",
            "_view_count": null,
            "flex_flow": null,
            "width": null,
            "min_width": null,
            "border": null,
            "align_items": null,
            "bottom": null,
            "_model_module": "@jupyter-widgets/base",
            "top": null,
            "grid_column": null,
            "overflow_y": null,
            "overflow_x": null,
            "grid_auto_flow": null,
            "grid_area": null,
            "grid_template_columns": null,
            "flex": null,
            "_model_name": "LayoutModel",
            "justify_items": null,
            "grid_row": null,
            "max_height": null,
            "align_content": null,
            "visibility": null,
            "align_self": null,
            "height": null,
            "min_height": null,
            "padding": null,
            "grid_auto_rows": null,
            "grid_gap": null,
            "max_width": null,
            "order": null,
            "_view_module_version": "1.2.0",
            "grid_template_areas": null,
            "object_position": null,
            "object_fit": null,
            "grid_auto_columns": null,
            "margin": null,
            "display": null,
            "left": null
          }
        },
        "e6ba14fe384f46c19db02d9ac9d2b89f": {
          "model_module": "@jupyter-widgets/controls",
          "model_name": "ButtonModel",
          "state": {
            "_view_name": "ButtonView",
            "style": "IPY_MODEL_78dddbe0e95e4dad86e6c2a1b75c5b9c",
            "_dom_classes": [],
            "description": "Find Sun",
            "_model_name": "ButtonModel",
            "button_style": "",
            "_view_module": "@jupyter-widgets/controls",
            "_model_module_version": "1.5.0",
            "tooltip": "",
            "_view_count": null,
            "disabled": false,
            "_view_module_version": "1.5.0",
            "layout": "IPY_MODEL_3471f7118227432a942728fb79f74861",
            "_model_module": "@jupyter-widgets/controls",
            "icon": ""
          }
        },
        "78dddbe0e95e4dad86e6c2a1b75c5b9c": {
          "model_module": "@jupyter-widgets/controls",
          "model_name": "ButtonStyleModel",
          "state": {
            "_view_name": "StyleView",
            "_model_name": "ButtonStyleModel",
            "_view_module": "@jupyter-widgets/base",
            "_model_module_version": "1.5.0",
            "_view_count": null,
            "button_color": null,
            "font_weight": "",
            "_view_module_version": "1.2.0",
            "_model_module": "@jupyter-widgets/controls"
          }
        },
        "3471f7118227432a942728fb79f74861": {
          "model_module": "@jupyter-widgets/base",
          "model_name": "LayoutModel",
          "state": {
            "_view_name": "LayoutView",
            "grid_template_rows": null,
            "right": null,
            "justify_content": null,
            "_view_module": "@jupyter-widgets/base",
            "overflow": null,
            "_model_module_version": "1.2.0",
            "_view_count": null,
            "flex_flow": null,
            "width": null,
            "min_width": null,
            "border": null,
            "align_items": null,
            "bottom": null,
            "_model_module": "@jupyter-widgets/base",
            "top": null,
            "grid_column": null,
            "overflow_y": null,
            "overflow_x": null,
            "grid_auto_flow": null,
            "grid_area": null,
            "grid_template_columns": null,
            "flex": null,
            "_model_name": "LayoutModel",
            "justify_items": null,
            "grid_row": null,
            "max_height": null,
            "align_content": null,
            "visibility": null,
            "align_self": null,
            "height": null,
            "min_height": null,
            "padding": null,
            "grid_auto_rows": null,
            "grid_gap": null,
            "max_width": null,
            "order": null,
            "_view_module_version": "1.2.0",
            "grid_template_areas": null,
            "object_position": null,
            "object_fit": null,
            "grid_auto_columns": null,
            "margin": null,
            "display": null,
            "left": null
          }
        },
        "e007595fa0684886bc384a4f54df3e2f": {
          "model_module": "@jupyter-widgets/output",
          "model_name": "OutputModel",
          "state": {
            "_view_name": "OutputView",
            "msg_id": "",
            "_dom_classes": [],
            "_model_name": "OutputModel",
            "outputs": [],
            "_view_module": "@jupyter-widgets/output",
            "_model_module_version": "1.0.0",
            "_view_count": null,
            "_view_module_version": "1.0.0",
            "layout": "IPY_MODEL_53f8211e9e9141d287dd1096967f8994",
            "_model_module": "@jupyter-widgets/output"
          }
        },
        "53f8211e9e9141d287dd1096967f8994": {
          "model_module": "@jupyter-widgets/base",
          "model_name": "LayoutModel",
          "state": {
            "_view_name": "LayoutView",
            "grid_template_rows": null,
            "right": null,
            "justify_content": null,
            "_view_module": "@jupyter-widgets/base",
            "overflow": null,
            "_model_module_version": "1.2.0",
            "_view_count": null,
            "flex_flow": null,
            "width": null,
            "min_width": null,
            "border": null,
            "align_items": null,
            "bottom": null,
            "_model_module": "@jupyter-widgets/base",
            "top": null,
            "grid_column": null,
            "overflow_y": null,
            "overflow_x": null,
            "grid_auto_flow": null,
            "grid_area": null,
            "grid_template_columns": null,
            "flex": null,
            "_model_name": "LayoutModel",
            "justify_items": null,
            "grid_row": null,
            "max_height": null,
            "align_content": null,
            "visibility": null,
            "align_self": null,
            "height": null,
            "min_height": null,
            "padding": null,
            "grid_auto_rows": null,
            "grid_gap": null,
            "max_width": null,
            "order": null,
            "_view_module_version": "1.2.0",
            "grid_template_areas": null,
            "object_position": null,
            "object_fit": null,
            "grid_auto_columns": null,
            "margin": null,
            "display": null,
            "left": null
          }
        }
      }
    }
  },
  "cells": [
    {
      "cell_type": "markdown",
      "metadata": {
        "id": "view-in-github",
        "colab_type": "text"
      },
      "source": [
        "<a href=\"https://colab.research.google.com/github/JengkolRebus/kalibrasi-arah-kiblat/blob/main/kalibrasiArahKiblat.ipynb\" target=\"_parent\"><img src=\"https://colab.research.google.com/assets/colab-badge.svg\" alt=\"Open In Colab\"/></a>"
      ]
    },
    {
      "cell_type": "code",
      "metadata": {
        "colab": {
          "base_uri": "https://localhost:8080/"
        },
        "id": "7grICPGifipm",
        "outputId": "e571a1e2-7e74-4e0b-c23d-553aa3dd47fc"
      },
      "source": [
        "# jengkolrebus\r\n",
        "# 31 January 2021\r\n",
        "# Yogyakarta\r\n",
        "!pip install skyfield"
      ],
      "execution_count": null,
      "outputs": [
        {
          "output_type": "stream",
          "text": [
            "Collecting skyfield\n",
            "\u001b[?25l  Downloading https://files.pythonhosted.org/packages/ed/0c/18a494bcf319b44bcf6373f0353a4642d85f75b82cd32556625300b89b7f/skyfield-1.36.tar.gz (386kB)\n",
            "\u001b[K     |████████████████████████████████| 389kB 5.4MB/s \n",
            "\u001b[?25hRequirement already satisfied: certifi>=2017.4.17 in /usr/local/lib/python3.6/dist-packages (from skyfield) (2020.12.5)\n",
            "Collecting jplephem>=2.13\n",
            "\u001b[?25l  Downloading https://files.pythonhosted.org/packages/c9/f0/e57456436531333455f40864622c5ae359654ccede8fe1156c3c2ac6c492/jplephem-2.15.tar.gz (40kB)\n",
            "\u001b[K     |████████████████████████████████| 40kB 3.3MB/s \n",
            "\u001b[?25hRequirement already satisfied: numpy in /usr/local/lib/python3.6/dist-packages (from skyfield) (1.19.5)\n",
            "Collecting sgp4>=2.2\n",
            "\u001b[?25l  Downloading https://files.pythonhosted.org/packages/aa/a9/b0587fd56774949a7d91d3b5efd00fa44507588ead6c7e68e5f6745d56c3/sgp4-2.15-cp36-cp36m-manylinux2010_x86_64.whl (257kB)\n",
            "\u001b[K     |████████████████████████████████| 266kB 7.5MB/s \n",
            "\u001b[?25hBuilding wheels for collected packages: skyfield, jplephem\n",
            "  Building wheel for skyfield (setup.py) ... \u001b[?25l\u001b[?25hdone\n",
            "  Created wheel for skyfield: filename=skyfield-1.36-cp36-none-any.whl size=428757 sha256=2f7a803f4481b752741cfe571787ca554ba2830ea02c6439529c8b8e8d3d78cf\n",
            "  Stored in directory: /root/.cache/pip/wheels/11/98/cd/cdfe900b77701df1db4c1ff3424af3eb8a03b12966def2eacd\n",
            "  Building wheel for jplephem (setup.py) ... \u001b[?25l\u001b[?25hdone\n",
            "  Created wheel for jplephem: filename=jplephem-2.15-cp36-none-any.whl size=46018 sha256=dc31499179e1dddafdb80401d78b4f7039f90f1134202eaa4db09fc7d3ff38f4\n",
            "  Stored in directory: /root/.cache/pip/wheels/01/71/9c/beaa33beb607ef67b62765324a10cd3584e30fbeef8856b7a8\n",
            "Successfully built skyfield jplephem\n",
            "Installing collected packages: jplephem, sgp4, skyfield\n",
            "Successfully installed jplephem-2.15 sgp4-2.15 skyfield-1.36\n"
          ],
          "name": "stdout"
        }
      ]
    },
    {
      "cell_type": "code",
      "metadata": {
        "id": "4BjiWObwgmS9"
      },
      "source": [
        "from skyfield.api import load, Topos\r\n",
        "from datetime import datetime, timedelta\r\n",
        "from pytz import timezone\r\n",
        "import calendar\r\n",
        "\r\n",
        "from ipywidgets import widgets, interact, interactive\r\n",
        "from IPython.display import display, HTML\r\n",
        "\r\n",
        "import numpy as np\r\n",
        "\r\n",
        "\r\n",
        "jkt = timezone('Asia/Jakarta')\r\n",
        "utc = timezone('UTC')\r\n",
        "ts = load.timescale()\r\n",
        "e = load('de421.bsp')\r\n",
        "\r\n",
        "location = ['7.83305556 S','110.38305556 E']\r\n",
        "lintangKabah = np.radians(21+(25/60)+(21.07/3600))\r\n",
        "bujurKabah = np.radians(39+(49/60)+(34.37/3600))\r\n",
        "lintangTempat = np.radians(float(location[0].split(' ')[0])*-1)\r\n",
        "bujurTempat = np.radians(float(location[1].split(' ')[0]))\r\n",
        "\r\n",
        "def arahKiblat(lintangKabah, bujurKabah, lintangTempat, bujurTempat):\r\n",
        "    a = np.sin(bujurTempat-bujurKabah)\r\n",
        "    b = np.cos(lintangTempat)*np.tan(lintangKabah)\r\n",
        "    c = np.sin(lintangTempat)*np.cos(bujurTempat - bujurKabah)\r\n",
        "    K = np.degrees(np.arctan(a/(b-c)))\r\n",
        "    az = 270+(90-K)\r\n",
        "    K = toDMS(K)\r\n",
        "    az = toDMS(az)\r\n",
        "    return K, az\r\n",
        "\r\n",
        "def toDMS(degree):\r\n",
        "    d = int(degree)\r\n",
        "    m = int((degree-d)*60)\r\n",
        "    s = (degree - d - m / 60) * 3600\r\n",
        "    degree_sign = u'\\N{DEGREE SIGN}'\r\n",
        "    return '{}{} {}\\' {}\\\"'.format(d, degree_sign, m, round(s, 2))\r\n",
        "\r\n",
        "def result(latitude, longitude, time):\r\n",
        "    t = utc.localize(time)\r\n",
        "    t = ts.from_datetime(t)\r\n",
        "    loc = e['earth'] + Topos(latitude, longitude)\r\n",
        "    astrometric = loc.at(t).observe(e['sun'])\r\n",
        "    alt, az, d = astrometric.apparent().altaz()\r\n",
        "    return t.astimezone(jkt), az"
      ],
      "execution_count": null,
      "outputs": []
    },
    {
      "cell_type": "code",
      "metadata": {
        "colab": {
          "base_uri": "https://localhost:8080/",
          "height": 196,
          "referenced_widgets": [
            "00cdb6a91f674256bfc04843f49a116b",
            "fb961e7bee5b4dffaf07b63b1255a900",
            "2f52c7a019c44a888e2707432dcda0f6",
            "49194d0a4f9d4075b7f3f876bf73ff43",
            "2abcfaff07084b068feee248a4d2545e",
            "b5db8487e2be4f268b601a6f7eb216fd",
            "e6ba14fe384f46c19db02d9ac9d2b89f",
            "78dddbe0e95e4dad86e6c2a1b75c5b9c",
            "3471f7118227432a942728fb79f74861",
            "e007595fa0684886bc384a4f54df3e2f",
            "53f8211e9e9141d287dd1096967f8994"
          ]
        },
        "id": "t5KcoqMziE-q",
        "outputId": "ebf9eb43-7455-4d48-f49c-755d359fede9"
      },
      "source": [
        "\r\n",
        "\r\n",
        "current_day = datetime.now()\r\n",
        "time = widgets.DatePicker(value=current_day, description='Waktu:',\r\n",
        "                          disabled=False)\r\n",
        "def currTime():\r\n",
        "    current_daytime = datetime.now()\r\n",
        "    time.value = current_daytime\r\n",
        "\r\n",
        "lat = widgets.Text(value=location[0], description='Latitude:')\r\n",
        "longi = widgets.Text(value=location[1], description='Longitude:')\r\n",
        "\r\n",
        "display(lat)\r\n",
        "display(longi)\r\n",
        "\r\n",
        "button = widgets.Button(description=\"Find Sun\")\r\n",
        "output = widgets.Output()\r\n",
        "display(button, output)\r\n",
        "\r\n",
        "def on_button_clicked(b):\r\n",
        "    currTime()\r\n",
        "    t, az = result(lat.value, longi.value, time.value)\r\n",
        "    print('Waktu:', t)\r\n",
        "    print('Azimuth Matahari:', az)\r\n",
        "    print()\r\n",
        "    arah_kiblat, az_kiblat = arahKiblat(lintangKabah, bujurKabah, lintangTempat, bujurTempat)\r\n",
        "    print('Arah Kiblat:', arah_kiblat, 'Dari Utara ke Barat')\r\n",
        "    print('Azimuth Kiblat:', az_kiblat)\r\n",
        "\r\n",
        "button.on_click(on_button_clicked)"
      ],
      "execution_count": 89,
      "outputs": [
        {
          "output_type": "display_data",
          "data": {
            "application/vnd.jupyter.widget-view+json": {
              "model_id": "00cdb6a91f674256bfc04843f49a116b",
              "version_minor": 0,
              "version_major": 2
            },
            "text/plain": [
              "Text(value='7.83305556 S', description='Latitude:')"
            ]
          },
          "metadata": {
            "tags": []
          }
        },
        {
          "output_type": "display_data",
          "data": {
            "application/vnd.jupyter.widget-view+json": {
              "model_id": "49194d0a4f9d4075b7f3f876bf73ff43",
              "version_minor": 0,
              "version_major": 2
            },
            "text/plain": [
              "Text(value='110.38305556 E', description='Longitude:')"
            ]
          },
          "metadata": {
            "tags": []
          }
        },
        {
          "output_type": "display_data",
          "data": {
            "application/vnd.jupyter.widget-view+json": {
              "model_id": "e6ba14fe384f46c19db02d9ac9d2b89f",
              "version_minor": 0,
              "version_major": 2
            },
            "text/plain": [
              "Button(description='Find Sun', style=ButtonStyle())"
            ]
          },
          "metadata": {
            "tags": []
          }
        },
        {
          "output_type": "display_data",
          "data": {
            "application/vnd.jupyter.widget-view+json": {
              "model_id": "e007595fa0684886bc384a4f54df3e2f",
              "version_minor": 0,
              "version_major": 2
            },
            "text/plain": [
              "Output()"
            ]
          },
          "metadata": {
            "tags": []
          }
        },
        {
          "output_type": "stream",
          "text": [
            "Waktu: 2021-01-31 17:08:40.122138+07:00\n",
            "Azimuth Matahari: 253deg 58' 03.1\"\n",
            "\n",
            "Arah Kiblat: 65° 16' 59.4\" Dari Utara ke Barat\n",
            "Azimuth Kiblat: 294° 43' 0.6\"\n"
          ],
          "name": "stdout"
        }
      ]
    },
    {
      "cell_type": "code",
      "metadata": {
        "id": "lQforO-7ibQc"
      },
      "source": [
        ""
      ],
      "execution_count": null,
      "outputs": []
    }
  ]
}